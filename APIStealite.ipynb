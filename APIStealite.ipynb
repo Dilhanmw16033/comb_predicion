{
  "nbformat": 4,
  "nbformat_minor": 0,
  "metadata": {
    "colab": {
      "name": "APIStealite.ipynb",
      "provenance": [],
      "collapsed_sections": [],
      "include_colab_link": true
    },
    "kernelspec": {
      "name": "python3",
      "display_name": "Python 3"
    },
    "language_info": {
      "name": "python"
    }
  },
  "cells": [
    {
      "cell_type": "markdown",
      "metadata": {
        "id": "view-in-github",
        "colab_type": "text"
      },
      "source": [
        "<a href=\"https://colab.research.google.com/github/Dilhanmw16033/stock_comb/blob/main/APIStealite.ipynb\" target=\"_parent\"><img src=\"https://colab.research.google.com/assets/colab-badge.svg\" alt=\"Open In Colab\"/></a>"
      ]
    },
    {
      "cell_type": "code",
      "source": [
        "from google.colab import drive\n",
        "drive.mount('/content/drive')"
      ],
      "metadata": {
        "colab": {
          "base_uri": "https://localhost:8080/"
        },
        "id": "R-_pO8dp1Ju2",
        "outputId": "765fb0a0-ff80-4c6e-e980-fc27c0f4a085"
      },
      "execution_count": 1,
      "outputs": [
        {
          "output_type": "stream",
          "name": "stdout",
          "text": [
            "Mounted at /content/drive\n"
          ]
        }
      ]
    },
    {
      "cell_type": "code",
      "source": [
        "!curl -s https://ngrok-agent.s3.amazonaws.com/ngrok.asc | sudo tee /etc/apt/trusted.gpg.d/ngrok.asc >/dev/null && echo \"deb https://ngrok-agent.s3.amazonaws.com buster main\" | sudo tee /etc/apt/sources.list.d/ngrok.list && sudo apt update && sudo apt install ngrok   \n",
        "              "
      ],
      "metadata": {
        "colab": {
          "base_uri": "https://localhost:8080/"
        },
        "id": "oZDrj3awBhUY",
        "outputId": "ed90ee96-c3e9-418b-e77c-0de7bb28622b"
      },
      "execution_count": 2,
      "outputs": [
        {
          "output_type": "stream",
          "name": "stdout",
          "text": [
            "deb https://ngrok-agent.s3.amazonaws.com buster main\n",
            "Get:1 https://cloud.r-project.org/bin/linux/ubuntu bionic-cran40/ InRelease [3,626 B]\n",
            "Get:2 http://ppa.launchpad.net/c2d4u.team/c2d4u4.0+/ubuntu bionic InRelease [15.9 kB]\n",
            "Hit:3 http://archive.ubuntu.com/ubuntu bionic InRelease\n",
            "Get:4 http://security.ubuntu.com/ubuntu bionic-security InRelease [88.7 kB]\n",
            "Get:5 http://archive.ubuntu.com/ubuntu bionic-updates InRelease [88.7 kB]\n",
            "Get:6 https://ngrok-agent.s3.amazonaws.com buster InRelease [7,470 B]\n",
            "Hit:7 http://ppa.launchpad.net/cran/libgit2/ubuntu bionic InRelease\n",
            "Hit:8 http://archive.ubuntu.com/ubuntu bionic-backports InRelease\n",
            "Get:9 http://ppa.launchpad.net/deadsnakes/ppa/ubuntu bionic InRelease [15.9 kB]\n",
            "Ign:10 https://developer.download.nvidia.com/compute/cuda/repos/ubuntu1804/x86_64  InRelease\n",
            "Get:11 https://ngrok-agent.s3.amazonaws.com buster/main amd64 Packages [598 B]\n",
            "Get:12 http://security.ubuntu.com/ubuntu bionic-security/main amd64 Packages [2,489 kB]\n",
            "Get:13 http://ppa.launchpad.net/graphics-drivers/ppa/ubuntu bionic InRelease [21.3 kB]\n",
            "Ign:14 https://developer.download.nvidia.com/compute/machine-learning/repos/ubuntu1804/x86_64  InRelease\n",
            "Get:15 http://archive.ubuntu.com/ubuntu bionic-updates/main amd64 Packages [2,929 kB]\n",
            "Hit:16 https://developer.download.nvidia.com/compute/cuda/repos/ubuntu1804/x86_64  Release\n",
            "Get:17 http://ppa.launchpad.net/c2d4u.team/c2d4u4.0+/ubuntu bionic/main Sources [1,822 kB]\n",
            "Hit:18 https://developer.download.nvidia.com/compute/machine-learning/repos/ubuntu1804/x86_64  Release\n",
            "Get:19 http://security.ubuntu.com/ubuntu bionic-security/multiverse amd64 Packages [26.8 kB]\n",
            "Get:20 http://security.ubuntu.com/ubuntu bionic-security/restricted amd64 Packages [716 kB]\n",
            "Get:21 http://security.ubuntu.com/ubuntu bionic-security/universe amd64 Packages [1,459 kB]\n",
            "Get:23 http://archive.ubuntu.com/ubuntu bionic-updates/restricted amd64 Packages [749 kB]\n",
            "Get:24 http://archive.ubuntu.com/ubuntu bionic-updates/multiverse amd64 Packages [34.5 kB]\n",
            "Get:25 http://archive.ubuntu.com/ubuntu bionic-updates/universe amd64 Packages [2,238 kB]\n",
            "Get:27 http://ppa.launchpad.net/c2d4u.team/c2d4u4.0+/ubuntu bionic/main amd64 Packages [934 kB]\n",
            "Get:28 http://ppa.launchpad.net/deadsnakes/ppa/ubuntu bionic/main amd64 Packages [45.3 kB]\n",
            "Get:29 http://ppa.launchpad.net/graphics-drivers/ppa/ubuntu bionic/main amd64 Packages [44.7 kB]\n",
            "Fetched 13.7 MB in 3s (4,105 kB/s)\n",
            "Reading package lists... Done\n",
            "Building dependency tree       \n",
            "Reading state information... Done\n",
            "60 packages can be upgraded. Run 'apt list --upgradable' to see them.\n",
            "Reading package lists... Done\n",
            "Building dependency tree       \n",
            "Reading state information... Done\n",
            "The following NEW packages will be installed:\n",
            "  ngrok\n",
            "0 upgraded, 1 newly installed, 0 to remove and 60 not upgraded.\n",
            "Need to get 11.7 MB of archives.\n",
            "After this operation, 0 B of additional disk space will be used.\n",
            "Get:1 https://ngrok-agent.s3.amazonaws.com buster/main amd64 ngrok amd64 2.3.40 [11.7 MB]\n",
            "Fetched 11.7 MB in 1s (8,220 kB/s)\n",
            "debconf: unable to initialize frontend: Dialog\n",
            "debconf: (No usable dialog-like program is installed, so the dialog based frontend cannot be used. at /usr/share/perl5/Debconf/FrontEnd/Dialog.pm line 76, <> line 1.)\n",
            "debconf: falling back to frontend: Readline\n",
            "debconf: unable to initialize frontend: Readline\n",
            "debconf: (This frontend requires a controlling tty.)\n",
            "debconf: falling back to frontend: Teletype\n",
            "dpkg-preconfigure: unable to re-open stdin: \n",
            "Selecting previously unselected package ngrok.\n",
            "(Reading database ... 155225 files and directories currently installed.)\n",
            "Preparing to unpack .../ngrok_2.3.40_amd64.deb ...\n",
            "Unpacking ngrok (2.3.40) ...\n",
            "Setting up ngrok (2.3.40) ...\n"
          ]
        }
      ]
    },
    {
      "cell_type": "code",
      "source": [
        "!pip install streamlit -q"
      ],
      "metadata": {
        "id": "iBCA8LNy13ap",
        "colab": {
          "base_uri": "https://localhost:8080/"
        },
        "outputId": "991025b0-38fc-440f-8cd7-0c436725b143"
      },
      "execution_count": 3,
      "outputs": [
        {
          "output_type": "stream",
          "name": "stdout",
          "text": [
            "\u001b[K     |████████████████████████████████| 9.2 MB 2.1 MB/s \n",
            "\u001b[K     |████████████████████████████████| 180 kB 47.7 MB/s \n",
            "\u001b[K     |████████████████████████████████| 76 kB 4.3 MB/s \n",
            "\u001b[K     |████████████████████████████████| 4.3 MB 44.2 MB/s \n",
            "\u001b[K     |████████████████████████████████| 164 kB 56.3 MB/s \n",
            "\u001b[K     |████████████████████████████████| 111 kB 57.5 MB/s \n",
            "\u001b[K     |████████████████████████████████| 63 kB 1.6 MB/s \n",
            "\u001b[K     |████████████████████████████████| 126 kB 46.4 MB/s \n",
            "\u001b[K     |████████████████████████████████| 792 kB 57.0 MB/s \n",
            "\u001b[K     |████████████████████████████████| 374 kB 36.6 MB/s \n",
            "\u001b[?25h  Building wheel for blinker (setup.py) ... \u001b[?25l\u001b[?25hdone\n",
            "\u001b[31mERROR: pip's dependency resolver does not currently take into account all the packages that are installed. This behaviour is the source of the following dependency conflicts.\n",
            "jupyter-console 5.2.0 requires prompt-toolkit<2.0.0,>=1.0.0, but you have prompt-toolkit 3.0.24 which is incompatible.\n",
            "google-colab 1.0.0 requires ipykernel~=4.10, but you have ipykernel 6.6.1 which is incompatible.\n",
            "google-colab 1.0.0 requires ipython~=5.5.0, but you have ipython 7.31.0 which is incompatible.\u001b[0m\n"
          ]
        }
      ]
    },
    {
      "cell_type": "code",
      "source": [
        "!pip install pyngrok\n"
      ],
      "metadata": {
        "colab": {
          "base_uri": "https://localhost:8080/"
        },
        "id": "MwPdLk-mHsVH",
        "outputId": "02c34175-f89e-464b-de7d-05ef7d17563f"
      },
      "execution_count": 4,
      "outputs": [
        {
          "output_type": "stream",
          "name": "stdout",
          "text": [
            "Collecting pyngrok\n",
            "  Downloading pyngrok-5.1.0.tar.gz (745 kB)\n",
            "\u001b[?25l\r\u001b[K     |▍                               | 10 kB 15.5 MB/s eta 0:00:01\r\u001b[K     |▉                               | 20 kB 22.1 MB/s eta 0:00:01\r\u001b[K     |█▎                              | 30 kB 21.6 MB/s eta 0:00:01\r\u001b[K     |█▊                              | 40 kB 13.0 MB/s eta 0:00:01\r\u001b[K     |██▏                             | 51 kB 5.8 MB/s eta 0:00:01\r\u001b[K     |██▋                             | 61 kB 6.3 MB/s eta 0:00:01\r\u001b[K     |███                             | 71 kB 5.4 MB/s eta 0:00:01\r\u001b[K     |███▌                            | 81 kB 5.9 MB/s eta 0:00:01\r\u001b[K     |████                            | 92 kB 5.9 MB/s eta 0:00:01\r\u001b[K     |████▍                           | 102 kB 5.2 MB/s eta 0:00:01\r\u001b[K     |████▉                           | 112 kB 5.2 MB/s eta 0:00:01\r\u001b[K     |█████▎                          | 122 kB 5.2 MB/s eta 0:00:01\r\u001b[K     |█████▊                          | 133 kB 5.2 MB/s eta 0:00:01\r\u001b[K     |██████▏                         | 143 kB 5.2 MB/s eta 0:00:01\r\u001b[K     |██████▋                         | 153 kB 5.2 MB/s eta 0:00:01\r\u001b[K     |███████                         | 163 kB 5.2 MB/s eta 0:00:01\r\u001b[K     |███████▌                        | 174 kB 5.2 MB/s eta 0:00:01\r\u001b[K     |████████                        | 184 kB 5.2 MB/s eta 0:00:01\r\u001b[K     |████████▍                       | 194 kB 5.2 MB/s eta 0:00:01\r\u001b[K     |████████▉                       | 204 kB 5.2 MB/s eta 0:00:01\r\u001b[K     |█████████▎                      | 215 kB 5.2 MB/s eta 0:00:01\r\u001b[K     |█████████▊                      | 225 kB 5.2 MB/s eta 0:00:01\r\u001b[K     |██████████▏                     | 235 kB 5.2 MB/s eta 0:00:01\r\u001b[K     |██████████▌                     | 245 kB 5.2 MB/s eta 0:00:01\r\u001b[K     |███████████                     | 256 kB 5.2 MB/s eta 0:00:01\r\u001b[K     |███████████▍                    | 266 kB 5.2 MB/s eta 0:00:01\r\u001b[K     |███████████▉                    | 276 kB 5.2 MB/s eta 0:00:01\r\u001b[K     |████████████▎                   | 286 kB 5.2 MB/s eta 0:00:01\r\u001b[K     |████████████▊                   | 296 kB 5.2 MB/s eta 0:00:01\r\u001b[K     |█████████████▏                  | 307 kB 5.2 MB/s eta 0:00:01\r\u001b[K     |█████████████▋                  | 317 kB 5.2 MB/s eta 0:00:01\r\u001b[K     |██████████████                  | 327 kB 5.2 MB/s eta 0:00:01\r\u001b[K     |██████████████▌                 | 337 kB 5.2 MB/s eta 0:00:01\r\u001b[K     |███████████████                 | 348 kB 5.2 MB/s eta 0:00:01\r\u001b[K     |███████████████▍                | 358 kB 5.2 MB/s eta 0:00:01\r\u001b[K     |███████████████▉                | 368 kB 5.2 MB/s eta 0:00:01\r\u001b[K     |████████████████▎               | 378 kB 5.2 MB/s eta 0:00:01\r\u001b[K     |████████████████▊               | 389 kB 5.2 MB/s eta 0:00:01\r\u001b[K     |█████████████████▏              | 399 kB 5.2 MB/s eta 0:00:01\r\u001b[K     |█████████████████▋              | 409 kB 5.2 MB/s eta 0:00:01\r\u001b[K     |██████████████████              | 419 kB 5.2 MB/s eta 0:00:01\r\u001b[K     |██████████████████▌             | 430 kB 5.2 MB/s eta 0:00:01\r\u001b[K     |███████████████████             | 440 kB 5.2 MB/s eta 0:00:01\r\u001b[K     |███████████████████▍            | 450 kB 5.2 MB/s eta 0:00:01\r\u001b[K     |███████████████████▉            | 460 kB 5.2 MB/s eta 0:00:01\r\u001b[K     |████████████████████▎           | 471 kB 5.2 MB/s eta 0:00:01\r\u001b[K     |████████████████████▋           | 481 kB 5.2 MB/s eta 0:00:01\r\u001b[K     |█████████████████████           | 491 kB 5.2 MB/s eta 0:00:01\r\u001b[K     |█████████████████████▌          | 501 kB 5.2 MB/s eta 0:00:01\r\u001b[K     |██████████████████████          | 512 kB 5.2 MB/s eta 0:00:01\r\u001b[K     |██████████████████████▍         | 522 kB 5.2 MB/s eta 0:00:01\r\u001b[K     |██████████████████████▉         | 532 kB 5.2 MB/s eta 0:00:01\r\u001b[K     |███████████████████████▎        | 542 kB 5.2 MB/s eta 0:00:01\r\u001b[K     |███████████████████████▊        | 552 kB 5.2 MB/s eta 0:00:01\r\u001b[K     |████████████████████████▏       | 563 kB 5.2 MB/s eta 0:00:01\r\u001b[K     |████████████████████████▋       | 573 kB 5.2 MB/s eta 0:00:01\r\u001b[K     |█████████████████████████       | 583 kB 5.2 MB/s eta 0:00:01\r\u001b[K     |█████████████████████████▌      | 593 kB 5.2 MB/s eta 0:00:01\r\u001b[K     |██████████████████████████      | 604 kB 5.2 MB/s eta 0:00:01\r\u001b[K     |██████████████████████████▍     | 614 kB 5.2 MB/s eta 0:00:01\r\u001b[K     |██████████████████████████▉     | 624 kB 5.2 MB/s eta 0:00:01\r\u001b[K     |███████████████████████████▎    | 634 kB 5.2 MB/s eta 0:00:01\r\u001b[K     |███████████████████████████▊    | 645 kB 5.2 MB/s eta 0:00:01\r\u001b[K     |████████████████████████████▏   | 655 kB 5.2 MB/s eta 0:00:01\r\u001b[K     |████████████████████████████▋   | 665 kB 5.2 MB/s eta 0:00:01\r\u001b[K     |█████████████████████████████   | 675 kB 5.2 MB/s eta 0:00:01\r\u001b[K     |█████████████████████████████▌  | 686 kB 5.2 MB/s eta 0:00:01\r\u001b[K     |██████████████████████████████  | 696 kB 5.2 MB/s eta 0:00:01\r\u001b[K     |██████████████████████████████▍ | 706 kB 5.2 MB/s eta 0:00:01\r\u001b[K     |██████████████████████████████▊ | 716 kB 5.2 MB/s eta 0:00:01\r\u001b[K     |███████████████████████████████▏| 727 kB 5.2 MB/s eta 0:00:01\r\u001b[K     |███████████████████████████████▋| 737 kB 5.2 MB/s eta 0:00:01\r\u001b[K     |████████████████████████████████| 745 kB 5.2 MB/s \n",
            "\u001b[?25hRequirement already satisfied: PyYAML in /usr/local/lib/python3.7/dist-packages (from pyngrok) (3.13)\n",
            "Building wheels for collected packages: pyngrok\n",
            "  Building wheel for pyngrok (setup.py) ... \u001b[?25l\u001b[?25hdone\n",
            "  Created wheel for pyngrok: filename=pyngrok-5.1.0-py3-none-any.whl size=19006 sha256=ec84f40927128ed2d25d1956cbf2b8db3c87d10c1bdbd4a84d87d52e24d4ecdb\n",
            "  Stored in directory: /root/.cache/pip/wheels/bf/e6/af/ccf6598ecefecd44104069371795cb9b3afbcd16987f6ccfb3\n",
            "Successfully built pyngrok\n",
            "Installing collected packages: pyngrok\n",
            "Successfully installed pyngrok-5.1.0\n"
          ]
        }
      ]
    },
    {
      "cell_type": "code",
      "source": [
        "!python -V"
      ],
      "metadata": {
        "colab": {
          "base_uri": "https://localhost:8080/"
        },
        "id": "l57uv5sGWEMO",
        "outputId": "fe6e18c2-1a67-459f-bd29-d4dccb93f2c0"
      },
      "execution_count": 5,
      "outputs": [
        {
          "output_type": "stream",
          "name": "stdout",
          "text": [
            "Python 3.7.12\n"
          ]
        }
      ]
    },
    {
      "cell_type": "code",
      "source": [
        "\n",
        "from datetime import datetime"
      ],
      "metadata": {
        "id": "iK62THSIb6rV"
      },
      "execution_count": 6,
      "outputs": []
    },
    {
      "cell_type": "code",
      "source": [
        "%%writefile app.py\n",
        "import streamlit as st\n",
        "import pandas as pd\n",
        "from sklearn.preprocessing import MinMaxScaler\n",
        "from pandas import read_csv\n",
        "from matplotlib import pyplot\n",
        "import matplotlib.pyplot as plt\n",
        "import tensorflow as tf\n",
        "from keras.models import load_model\n",
        "import numpy as np\n",
        "\n",
        "from tensorflow import keras\n",
        "\n",
        "st.title('Commercial bank Stock Price prediction')\n",
        "st.write('DSCS University of kelaniya')\n",
        "with st.form(\"my_form\"):\n",
        "    \n",
        "    number =  st.number_input('Insert  Low trade price', key ='0' )\n",
        "    number1 = st.number_input('Insert  close price', key  = '1')\n",
        "    number2 = st.number_input('Insert  Opening price', key = '2')\n",
        "    number3 = st.number_input('Insert  No of Trades', key = '3')\n",
        "    number4 = st.number_input('Insert  Volume', key = '4')\n",
        "    number5 = st.number_input('Insert  Trunover', key = '5')\n",
        "    list_enterd = [number,number1,number2,number3,number4,number5]\n",
        "    custom_df = pd.DataFrame(list_enterd).T\n",
        "    custom_df.columns = ['Low', 'Close', 'Open', 'Trades', 'Volume', 'Trunover']\n",
        "    cols =  list(custom_df)\n",
        "    custom_df=custom_df[cols].astype(float)\n",
        "    custom_df_array = np.array(custom_df)\n",
        "    scaler = MinMaxScaler(feature_range=(0, 1))\n",
        "    df_custom_scaled = scaler.fit_transform(custom_df_array)\n",
        "    custom_scaler_list = np.repeat(df_custom_scaled, 14,axis=0)\n",
        "    custom_scaler_list = np.repeat(custom_scaler_list[np.newaxis,:,:],882, axis=0)\n",
        "    custom_scaler_list = np.array(custom_scaler_list)\n",
        "    modelnew = load_model('/content/drive/MyDrive/150 epoch')\n",
        "    list_Custom_prediction = modelnew.predict(custom_scaler_list)\n",
        "    list_forcast_copies_finalize = np.repeat(list_Custom_prediction, 6, axis=-1)\n",
        "    list_predictions_333 = scaler.inverse_transform(list_forcast_copies_finalize)[:,0]\n",
        "    format_float = \"{:.2f}\".format(list_predictions_333[0])\n",
        "    # Every form must have a submit button.\n",
        "    submitted = st.form_submit_button(\"Submit\")\n",
        "if submitted:\n",
        "        \n",
        "    \n",
        "  st.title(\"Maximum trading  prediction price is \",format_float)\n",
        "  html_str = f\"\"\"\n",
        "  <style>\n",
        "  p.a {{\n",
        "   font: bold 35px Courier;\n",
        "  }}\n",
        "  </style>\n",
        "  <p class=\"a\">Rs {format_float}/=</p>\n",
        "  \"\"\"\n",
        "  st.markdown(html_str, unsafe_allow_html=True)"
      ],
      "metadata": {
        "colab": {
          "base_uri": "https://localhost:8080/"
        },
        "id": "yOH7ljqSK1Yr",
        "outputId": "17887808-6afe-4164-cfad-464208e1a81d"
      },
      "execution_count": 7,
      "outputs": [
        {
          "output_type": "stream",
          "name": "stdout",
          "text": [
            "Writing app.py\n"
          ]
        }
      ]
    },
    {
      "cell_type": "code",
      "source": [
        "!ls"
      ],
      "metadata": {
        "colab": {
          "base_uri": "https://localhost:8080/"
        },
        "id": "WRkzT650OOe_",
        "outputId": "35386208-8f2e-40d0-c2af-4caa3e395efa"
      },
      "execution_count": 8,
      "outputs": [
        {
          "output_type": "stream",
          "name": "stdout",
          "text": [
            "app.py\tdrive  sample_data\n"
          ]
        }
      ]
    },
    {
      "cell_type": "code",
      "source": [
        "!ngrok authtoken 1zXqF0F0Tk8Sv71VKNOJdgoPHYT_4KRT7SmyRu8SdZeYxX9TZ"
      ],
      "metadata": {
        "colab": {
          "base_uri": "https://localhost:8080/"
        },
        "id": "jI87TlKFQnQ0",
        "outputId": "7a1921c9-da6b-43ea-c781-dc889f890118"
      },
      "execution_count": 9,
      "outputs": [
        {
          "output_type": "stream",
          "name": "stdout",
          "text": [
            "Authtoken saved to configuration file: /root/.ngrok2/ngrok.yml\n"
          ]
        }
      ]
    },
    {
      "cell_type": "code",
      "source": [
        "from pyngrok import ngrok"
      ],
      "metadata": {
        "id": "UOsJWAgkUM0a"
      },
      "execution_count": 10,
      "outputs": []
    },
    {
      "cell_type": "code",
      "source": [
        "ngrok.kill()"
      ],
      "metadata": {
        "id": "0ljEs88wXZKu"
      },
      "execution_count": 18,
      "outputs": []
    },
    {
      "cell_type": "code",
      "source": [
        "!streamlit run app.py --server.port 80 &>/dev/null&"
      ],
      "metadata": {
        "id": "-oscoK2D52FL"
      },
      "execution_count": 21,
      "outputs": []
    },
    {
      "cell_type": "code",
      "source": [
        "#!streamlit run app.py &>/dev/null&"
      ],
      "metadata": {
        "id": "PYrMxDAW3fww"
      },
      "execution_count": null,
      "outputs": []
    },
    {
      "cell_type": "code",
      "source": [
        "!pgrep streamlit"
      ],
      "metadata": {
        "id": "n0cpp0I0UwdJ",
        "colab": {
          "base_uri": "https://localhost:8080/"
        },
        "outputId": "be97c32b-157c-4e49-d159-d00148ef8c1e"
      },
      "execution_count": 23,
      "outputs": [
        {
          "output_type": "stream",
          "name": "stdout",
          "text": [
            "1462\n"
          ]
        }
      ]
    },
    {
      "cell_type": "code",
      "source": [
        "!kill  1418"
      ],
      "metadata": {
        "id": "6zIW5UqbU2FO",
        "colab": {
          "base_uri": "https://localhost:8080/"
        },
        "outputId": "f796f2fe-e6d4-43c0-c8dd-53e961b4df9c"
      },
      "execution_count": 24,
      "outputs": [
        {
          "output_type": "stream",
          "name": "stdout",
          "text": [
            "/bin/bash: line 0: kill: (1418) - No such process\n"
          ]
        }
      ]
    },
    {
      "cell_type": "code",
      "source": [
        "# Setup a tunnel to the streamlit port 8501\n",
        "public_url = ngrok.connect(port='8501')\n",
        "\n",
        "public_url"
      ],
      "metadata": {
        "colab": {
          "base_uri": "https://localhost:8080/"
        },
        "id": "GSEz6PCvRhIc",
        "outputId": "d4953c9a-c118-434b-f3b9-b7cb6babd932"
      },
      "execution_count": 25,
      "outputs": [
        {
          "output_type": "execute_result",
          "data": {
            "text/plain": [
              "<NgrokTunnel: \"http://4648-34-74-209-122.ngrok.io\" -> \"http://localhost:80\">"
            ]
          },
          "metadata": {},
          "execution_count": 25
        }
      ]
    },
    {
      "cell_type": "code",
      "source": [
        "!pip install pipreqs"
      ],
      "metadata": {
        "colab": {
          "base_uri": "https://localhost:8080/"
        },
        "id": "8BnvSrGsHbK5",
        "outputId": "453256a7-af02-4483-8b5a-ac6d4a740b93"
      },
      "execution_count": 26,
      "outputs": [
        {
          "output_type": "stream",
          "name": "stdout",
          "text": [
            "Collecting pipreqs\n",
            "  Downloading pipreqs-0.4.11-py2.py3-none-any.whl (32 kB)\n",
            "Requirement already satisfied: docopt in /usr/local/lib/python3.7/dist-packages (from pipreqs) (0.6.2)\n",
            "Collecting yarg\n",
            "  Downloading yarg-0.1.9-py2.py3-none-any.whl (19 kB)\n",
            "Requirement already satisfied: requests in /usr/local/lib/python3.7/dist-packages (from yarg->pipreqs) (2.23.0)\n",
            "Requirement already satisfied: chardet<4,>=3.0.2 in /usr/local/lib/python3.7/dist-packages (from requests->yarg->pipreqs) (3.0.4)\n",
            "Requirement already satisfied: urllib3!=1.25.0,!=1.25.1,<1.26,>=1.21.1 in /usr/local/lib/python3.7/dist-packages (from requests->yarg->pipreqs) (1.24.3)\n",
            "Requirement already satisfied: idna<3,>=2.5 in /usr/local/lib/python3.7/dist-packages (from requests->yarg->pipreqs) (2.10)\n",
            "Requirement already satisfied: certifi>=2017.4.17 in /usr/local/lib/python3.7/dist-packages (from requests->yarg->pipreqs) (2021.10.8)\n",
            "Installing collected packages: yarg, pipreqs\n",
            "Successfully installed pipreqs-0.4.11 yarg-0.1.9\n"
          ]
        }
      ]
    },
    {
      "cell_type": "code",
      "source": [
        "!pipreqs \"/content/drive/MyDrive/75 epoch\""
      ],
      "metadata": {
        "colab": {
          "base_uri": "https://localhost:8080/"
        },
        "id": "jTAOQHj5a-aA",
        "outputId": "73671891-87f8-4ade-a524-ca2c0770aad4"
      },
      "execution_count": 28,
      "outputs": [
        {
          "output_type": "stream",
          "name": "stdout",
          "text": [
            "INFO: Successfully saved requirements file in /content/drive/MyDrive/75 epoch/requirements.txt\n"
          ]
        }
      ]
    },
    {
      "cell_type": "code",
      "source": [
        "!cp /content/app.py \"/content/drive/MyDrive/75 epoch\""
      ],
      "metadata": {
        "id": "-DmTHT8UbPXq"
      },
      "execution_count": 30,
      "outputs": []
    },
    {
      "cell_type": "code",
      "source": [
        ""
      ],
      "metadata": {
        "id": "4aRKTa43bh0u"
      },
      "execution_count": null,
      "outputs": []
    }
  ]
}